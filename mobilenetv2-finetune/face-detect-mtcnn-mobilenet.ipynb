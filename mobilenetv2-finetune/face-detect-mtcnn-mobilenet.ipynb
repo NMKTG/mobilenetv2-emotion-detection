{
 "cells": [
  {
   "cell_type": "code",
   "execution_count": null,
   "id": "3bca39fc",
   "metadata": {},
   "outputs": [],
   "source": [
    "import cv2\n",
    "import numpy as np\n",
    "from mtcnn.mtcnn import MTCNN\n",
    "from tensorflow.keras.models import load_model"
   ]
  },
  {
   "cell_type": "code",
   "execution_count": null,
   "id": "a93a0fb0",
   "metadata": {},
   "outputs": [],
   "source": [
    "# Carregar modelo treinado\n",
    "model = load_model('mobilenetv2_emotion_finetuned_07-05.keras')"
   ]
  },
  {
   "cell_type": "code",
   "execution_count": null,
   "id": "e3ba0534",
   "metadata": {},
   "outputs": [],
   "source": [
    "# Rótulos das classes (ajuste conforme seu treinamento)\n",
    "class_labels = ['angry', 'disgust', 'fear', 'happy', 'neutral', 'sad', 'surprise']"
   ]
  },
  {
   "cell_type": "code",
   "execution_count": null,
   "id": "248ef085",
   "metadata": {},
   "outputs": [],
   "source": [
    "# Inicializar MTCNN\n",
    "detector = MTCNN()"
   ]
  },
  {
   "cell_type": "code",
   "execution_count": null,
   "id": "48611c06",
   "metadata": {},
   "outputs": [],
   "source": [
    "# Tamanho de entrada do modelo\n",
    "img_size = 96"
   ]
  },
  {
   "cell_type": "code",
   "execution_count": null,
   "id": "66651c29",
   "metadata": {},
   "outputs": [],
   "source": [
    "# Inicializar webcam\n",
    "cap = cv2.VideoCapture(0)\n",
    "\n",
    "if not cap.isOpened():\n",
    "    raise RuntimeError(\"Não foi possível acessar a webcam.\")\n",
    "\n",
    "print(\"Pressione 'q' para sair.\")\n",
    "\n",
    "while True:\n",
    "    ret, frame = cap.read()\n",
    "    if not ret:\n",
    "        continue\n",
    "\n",
    "    rgb_frame = cv2.cvtColor(frame, cv2.COLOR_BGR2RGB)\n",
    "    results = detector.detect_faces(rgb_frame)\n",
    "\n",
    "    for result in results:\n",
    "        x, y, w, h = result['box']\n",
    "        x, y = abs(x), abs(y)  # Corrigir coordenadas negativas\n",
    "\n",
    "        face = rgb_frame[y:y+h, x:x+w]\n",
    "        if face.shape[0] < 20 or face.shape[1] < 20:\n",
    "            continue  # Ignorar faces muito pequenas\n",
    "\n",
    "        face_resized = cv2.resize(face, (img_size, img_size))\n",
    "        face_input = np.expand_dims(face_resized, axis=0) / 255.0\n",
    "\n",
    "        prediction = model.predict(face_input, verbose=0)\n",
    "        predicted_class = np.argmax(prediction)\n",
    "        predicted_label = class_labels[predicted_class]\n",
    "\n",
    "        # Desenhar bounding box e label\n",
    "        cv2.rectangle(frame, (x, y), (x+w, y+h), (0, 255, 0), 2)\n",
    "        cv2.putText(frame, predicted_label, (x, y - 10),\n",
    "                    cv2.FONT_HERSHEY_SIMPLEX, 0.9, (36, 255, 12), 2)\n",
    "\n",
    "    cv2.imshow('Detecção de Emoções com MTCNN', frame)\n",
    "\n",
    "    if cv2.waitKey(1) & 0xFF == ord('q'):\n",
    "        break\n",
    "\n",
    "cap.release()\n",
    "cv2.destroyAllWindows()"
   ]
  }
 ],
 "metadata": {
  "language_info": {
   "name": "python"
  }
 },
 "nbformat": 4,
 "nbformat_minor": 5
}
