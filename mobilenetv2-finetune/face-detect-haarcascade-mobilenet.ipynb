{
 "cells": [
  {
   "cell_type": "code",
   "execution_count": null,
   "id": "caeb2e14",
   "metadata": {},
   "outputs": [],
   "source": [
    "import cv2\n",
    "import numpy as np\n",
    "from tensorflow.keras.models import load_model"
   ]
  },
  {
   "cell_type": "code",
   "execution_count": null,
   "id": "97a0a0d2",
   "metadata": {},
   "outputs": [],
   "source": [
    "# Carregar modelo treinado\n",
    "model = load_model('mobilenetv2_emotion_finetuned_1940h_acc_0.65.keras')"
   ]
  },
  {
   "cell_type": "code",
   "execution_count": null,
   "id": "94fcba69",
   "metadata": {},
   "outputs": [],
   "source": [
    "# Rótulos de classes (ajustar conforme necessário)\n",
    "class_labels = ['angry', 'disgust', 'fear', 'happy', 'neutral', 'sad', 'surprise']"
   ]
  },
  {
   "cell_type": "code",
   "execution_count": null,
   "id": "53448e9d",
   "metadata": {},
   "outputs": [],
   "source": [
    "# Inicializar detector Haar Cascade\n",
    "face_cascade = cv2.CascadeClassifier(cv2.data.haarcascades + 'haarcascade_frontalface_default.xml')"
   ]
  },
  {
   "cell_type": "code",
   "execution_count": null,
   "id": "9ad44b5e",
   "metadata": {},
   "outputs": [],
   "source": [
    "# Tamanho esperado pelo modelo\n",
    "img_size = 96"
   ]
  },
  {
   "cell_type": "code",
   "execution_count": null,
   "id": "e705be33",
   "metadata": {},
   "outputs": [],
   "source": [
    "# Inicializar webcam\n",
    "cap = cv2.VideoCapture(0)\n",
    "\n",
    "if not cap.isOpened():\n",
    "    raise RuntimeError(\"Não foi possível acessar a webcam.\")\n",
    "\n",
    "print(\"Pressione 'q' para sair.\")\n",
    "\n",
    "while True:\n",
    "    ret, frame = cap.read()\n",
    "    if not ret:\n",
    "        continue\n",
    "\n",
    "    gray_frame = cv2.cvtColor(frame, cv2.COLOR_BGR2GRAY)\n",
    "    faces = face_cascade.detectMultiScale(gray_frame, scaleFactor=1.1, minNeighbors=5)\n",
    "\n",
    "    for (x, y, w, h) in faces:\n",
    "        face = frame[y:y+h, x:x+w]\n",
    "        face_rgb = cv2.resize(face, (img_size, img_size))\n",
    "        face_rgb = cv2.cvtColor(face_rgb, cv2.COLOR_BGR2RGB)\n",
    "        face_input = np.expand_dims(face_rgb, axis=0) / 255.0\n",
    "\n",
    "        prediction = model.predict(face_input, verbose=0)\n",
    "        predicted_class = np.argmax(prediction)\n",
    "        predicted_label = class_labels[predicted_class]\n",
    "\n",
    "        # Desenhar bounding box e rótulo\n",
    "        cv2.rectangle(frame, (x, y), (x+w, y+h), (0, 255, 0), 2)\n",
    "        cv2.putText(frame, predicted_label, (x, y - 10),\n",
    "                    cv2.FONT_HERSHEY_SIMPLEX, 0.9, (0, 255, 0), 2)\n",
    "\n",
    "    cv2.imshow('Detecção de Emoções - Webcam', frame)\n",
    "\n",
    "    if cv2.waitKey(1) & 0xFF == ord('q'):\n",
    "        break\n",
    "\n",
    "# Liberar recursos\n",
    "cap.release()\n",
    "cv2.destroyAllWindows()"
   ]
  }
 ],
 "metadata": {
  "language_info": {
   "name": "python"
  }
 },
 "nbformat": 4,
 "nbformat_minor": 5
}
